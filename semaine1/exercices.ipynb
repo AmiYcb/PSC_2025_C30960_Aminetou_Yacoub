{
 "cells": [
  {
   "cell_type": "code",
   "execution_count": 1,
   "id": "e7b1d5e8",
   "metadata": {},
   "outputs": [
    {
     "data": {
      "text/plain": [
       "False"
      ]
     },
     "execution_count": 1,
     "metadata": {},
     "output_type": "execute_result"
    }
   ],
   "source": [
    "#ex1\n",
    "def f(x):\n",
    " return x**2-0.25*x + 5;\n",
    "f(2.3)==0"
   ]
  },
  {
   "cell_type": "code",
   "execution_count": 2,
   "id": "c47cb0fd",
   "metadata": {},
   "outputs": [
    {
     "data": {
      "text/plain": [
       "False"
      ]
     },
     "execution_count": 2,
     "metadata": {},
     "output_type": "execute_result"
    }
   ],
   "source": [
    "#ex2\n",
    "import cmath\n",
    "def f(x,n):\n",
    "    return (cmath.cos(x)+1j*cmath.sin(x))**n==cmath.cos(n*x)+1j*cmath.sin(n*x)\n",
    "f(3,4)"
   ]
  },
  {
   "cell_type": "code",
   "execution_count": 3,
   "id": "d6d298bc",
   "metadata": {},
   "outputs": [
    {
     "data": {
      "text/plain": [
       "True"
      ]
     },
     "execution_count": 3,
     "metadata": {},
     "output_type": "execute_result"
    }
   ],
   "source": [
    "import cmath\n",
    "\n",
    "def verify_euler(x):\n",
    "    return cmath.exp(1j*x) == cmath.cos(x) + 1j*cmath.sin(x)\n",
    "\n",
    "verify_euler(3)"
   ]
  },
  {
   "cell_type": "code",
   "execution_count": 4,
   "id": "b7ab7f9f",
   "metadata": {},
   "outputs": [
    {
     "name": "stdout",
     "output_type": "stream",
     "text": [
      "No convergence\n"
     ]
    }
   ],
   "source": [
    "#ex4\n",
    "u = 1 \n",
    "uold = 10.\n",
    "for iteration in range(2000):\n",
    " if abs(u-uold) < 1.e-8:\n",
    "  print('Convergence')\n",
    "  break \n",
    " uold = u\n",
    " u = 2*u\n",
    "else:\n",
    "  print('No convergence')"
   ]
  },
  {
   "cell_type": "code",
   "execution_count": 5,
   "id": "8d1dc7bb",
   "metadata": {},
   "outputs": [
    {
     "name": "stdout",
     "output_type": "stream",
     "text": [
      "False\n"
     ]
    }
   ],
   "source": [
    "#ex5\n",
    "a=True\n",
    "b=False\n",
    "c=False\n",
    "if((a and b) or not a):\n",
    " c=True\n",
    "else :\n",
    " c=False\n",
    "print(c)"
   ]
  }
 ],
 "metadata": {
  "kernelspec": {
   "display_name": "myenv (3.10.4)",
   "language": "python",
   "name": "python3"
  },
  "language_info": {
   "codemirror_mode": {
    "name": "ipython",
    "version": 3
   },
   "file_extension": ".py",
   "mimetype": "text/x-python",
   "name": "python",
   "nbconvert_exporter": "python",
   "pygments_lexer": "ipython3",
   "version": "3.10.4"
  }
 },
 "nbformat": 4,
 "nbformat_minor": 5
}
